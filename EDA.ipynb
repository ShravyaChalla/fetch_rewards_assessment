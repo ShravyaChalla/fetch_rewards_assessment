{
 "cells": [
  {
   "cell_type": "code",
   "execution_count": 1,
   "metadata": {},
   "outputs": [
    {
     "name": "stdout",
     "output_type": "stream",
     "text": [
      "   active      role signUpSource state                  _id.$oid  \\\n",
      "0    True  consumer        Email    WI  5ff1e194b6a9d73a3a9f1052   \n",
      "1    True  consumer        Email    WI  5ff1e194b6a9d73a3a9f1052   \n",
      "2    True  consumer        Email    WI  5ff1e194b6a9d73a3a9f1052   \n",
      "3    True  consumer        Email    WI  5ff1e1eacfcf6c399c274ae6   \n",
      "4    True  consumer        Email    WI  5ff1e194b6a9d73a3a9f1052   \n",
      "\n",
      "   createdDate.$date  lastLogin.$date  \n",
      "0      1609687444800     1.609688e+12  \n",
      "1      1609687444800     1.609688e+12  \n",
      "2      1609687444800     1.609688e+12  \n",
      "3      1609687530554     1.609688e+12  \n",
      "4      1609687444800     1.609688e+12  \n"
     ]
    }
   ],
   "source": [
    "import pandas as pd\n",
    "import json\n",
    "\n",
    "# Read raw JSON\n",
    "with open('users.json', 'r') as f:\n",
    "    raw_data = f.read().strip().splitlines()\n",
    "\n",
    "# Parse each JSON object\n",
    "data = [json.loads(line) for line in raw_data]\n",
    "\n",
    "# Convert to DataFrame\n",
    "users_df = pd.json_normalize(data)\n",
    "\n",
    "print(users_df.head())\n"
   ]
  },
  {
   "cell_type": "code",
   "execution_count": 2,
   "metadata": {},
   "outputs": [
    {
     "name": "stdout",
     "output_type": "stream",
     "text": [
      "        barcode        category      categoryCode                       name  \\\n",
      "0  511111019862          Baking            BAKING  test brand @1612366101024   \n",
      "1  511111519928       Beverages         BEVERAGES                  Starbucks   \n",
      "2  511111819905          Baking            BAKING  test brand @1612366146176   \n",
      "3  511111519874          Baking            BAKING  test brand @1612366146051   \n",
      "4  511111319917  Candy & Sweets  CANDY_AND_SWEETS  test brand @1612366146827   \n",
      "\n",
      "  topBrand                  _id.$oid              cpg.$id.$oid cpg.$ref  \\\n",
      "0    False  601ac115be37ce2ead437551  601ac114be37ce2ead437550     Cogs   \n",
      "1    False  601c5460be37ce2ead43755f  5332f5fbe4b03c9a25efd0ba     Cogs   \n",
      "2    False  601ac142be37ce2ead43755d  601ac142be37ce2ead437559     Cogs   \n",
      "3    False  601ac142be37ce2ead43755a  601ac142be37ce2ead437559     Cogs   \n",
      "4    False  601ac142be37ce2ead43755e  5332fa12e4b03c9a25efd1e7     Cogs   \n",
      "\n",
      "                       brandCode  \n",
      "0                            NaN  \n",
      "1                      STARBUCKS  \n",
      "2  TEST BRANDCODE @1612366146176  \n",
      "3  TEST BRANDCODE @1612366146051  \n",
      "4  TEST BRANDCODE @1612366146827  \n"
     ]
    }
   ],
   "source": [
    "# Read raw JSON\n",
    "with open('brands.json', 'r') as f:\n",
    "    raw_data = f.read().strip().splitlines()\n",
    "\n",
    "# Parse each JSON object\n",
    "data = [json.loads(line) for line in raw_data]\n",
    "\n",
    "# Convert to DataFrame\n",
    "brands_df = pd.json_normalize(data)\n",
    "\n",
    "print(brands_df.head())\n"
   ]
  },
  {
   "cell_type": "code",
   "execution_count": 3,
   "metadata": {},
   "outputs": [
    {
     "name": "stdout",
     "output_type": "stream",
     "text": [
      "   bonusPointsEarned                            bonusPointsEarnedReason  \\\n",
      "0              500.0  Receipt number 2 completed, bonus point schedu...   \n",
      "1              150.0  Receipt number 5 completed, bonus point schedu...   \n",
      "2                5.0                         All-receipts receipt bonus   \n",
      "3                5.0                         All-receipts receipt bonus   \n",
      "4                5.0                         All-receipts receipt bonus   \n",
      "\n",
      "  pointsEarned  purchasedItemCount  \\\n",
      "0        500.0                 5.0   \n",
      "1        150.0                 2.0   \n",
      "2            5                 1.0   \n",
      "3          5.0                 4.0   \n",
      "4          5.0                 2.0   \n",
      "\n",
      "                              rewardsReceiptItemList rewardsReceiptStatus  \\\n",
      "0  [{'barcode': '4011', 'description': 'ITEM NOT ...             FINISHED   \n",
      "1  [{'barcode': '4011', 'description': 'ITEM NOT ...             FINISHED   \n",
      "2  [{'needsFetchReview': False, 'partnerItemId': ...             REJECTED   \n",
      "3  [{'barcode': '4011', 'description': 'ITEM NOT ...             FINISHED   \n",
      "4  [{'barcode': '4011', 'description': 'ITEM NOT ...             FINISHED   \n",
      "\n",
      "  totalSpent                    userId                  _id.$oid  \\\n",
      "0      26.00  5ff1e1eacfcf6c399c274ae6  5ff1e1eb0a720f0523000575   \n",
      "1      11.00  5ff1e194b6a9d73a3a9f1052  5ff1e1bb0a720f052300056b   \n",
      "2      10.00  5ff1e1f1cfcf6c399c274b0b  5ff1e1f10a720f052300057a   \n",
      "3      28.00  5ff1e1eacfcf6c399c274ae6  5ff1e1ee0a7214ada100056f   \n",
      "4       1.00  5ff1e194b6a9d73a3a9f1052  5ff1e1d20a7214ada1000561   \n",
      "\n",
      "   createDate.$date  dateScanned.$date  finishedDate.$date  modifyDate.$date  \\\n",
      "0     1609687531000      1609687531000        1.609688e+12     1609687536000   \n",
      "1     1609687483000      1609687483000        1.609687e+12     1609687488000   \n",
      "2     1609687537000      1609687537000                 NaN     1609687542000   \n",
      "3     1609687534000      1609687534000        1.609688e+12     1609687539000   \n",
      "4     1609687506000      1609687506000        1.609688e+12     1609687511000   \n",
      "\n",
      "   pointsAwardedDate.$date  purchaseDate.$date  \n",
      "0             1.609688e+12        1.609632e+12  \n",
      "1             1.609687e+12        1.609601e+12  \n",
      "2                      NaN        1.609632e+12  \n",
      "3             1.609688e+12        1.609632e+12  \n",
      "4             1.609688e+12        1.609601e+12  \n"
     ]
    }
   ],
   "source": [
    "# Read raw JSON\n",
    "with open('receipts.json', 'r') as f:\n",
    "    raw_data = f.read().strip().splitlines()\n",
    "\n",
    "# Parse each JSON object\n",
    "data = [json.loads(line) for line in raw_data]\n",
    "\n",
    "# Convert to DataFrame\n",
    "receipts_df = pd.json_normalize(data)\n",
    "\n",
    "print(receipts_df.head())\n"
   ]
  },
  {
   "cell_type": "code",
   "execution_count": 4,
   "metadata": {},
   "outputs": [
    {
     "name": "stdout",
     "output_type": "stream",
     "text": [
      "<class 'pandas.core.frame.DataFrame'>\n",
      "RangeIndex: 1167 entries, 0 to 1166\n",
      "Data columns (total 9 columns):\n",
      " #   Column        Non-Null Count  Dtype \n",
      "---  ------        --------------  ----- \n",
      " 0   barcode       1167 non-null   object\n",
      " 1   category      1012 non-null   object\n",
      " 2   categoryCode  517 non-null    object\n",
      " 3   name          1167 non-null   object\n",
      " 4   topBrand      555 non-null    object\n",
      " 5   _id.$oid      1167 non-null   object\n",
      " 6   cpg.$id.$oid  1167 non-null   object\n",
      " 7   cpg.$ref      1167 non-null   object\n",
      " 8   brandCode     933 non-null    object\n",
      "dtypes: object(9)\n",
      "memory usage: 82.2+ KB\n",
      "None\n",
      "<class 'pandas.core.frame.DataFrame'>\n",
      "RangeIndex: 1119 entries, 0 to 1118\n",
      "Data columns (total 15 columns):\n",
      " #   Column                   Non-Null Count  Dtype  \n",
      "---  ------                   --------------  -----  \n",
      " 0   bonusPointsEarned        544 non-null    float64\n",
      " 1   bonusPointsEarnedReason  544 non-null    object \n",
      " 2   pointsEarned             609 non-null    object \n",
      " 3   purchasedItemCount       635 non-null    float64\n",
      " 4   rewardsReceiptItemList   679 non-null    object \n",
      " 5   rewardsReceiptStatus     1119 non-null   object \n",
      " 6   totalSpent               684 non-null    object \n",
      " 7   userId                   1119 non-null   object \n",
      " 8   _id.$oid                 1119 non-null   object \n",
      " 9   createDate.$date         1119 non-null   int64  \n",
      " 10  dateScanned.$date        1119 non-null   int64  \n",
      " 11  finishedDate.$date       568 non-null    float64\n",
      " 12  modifyDate.$date         1119 non-null   int64  \n",
      " 13  pointsAwardedDate.$date  537 non-null    float64\n",
      " 14  purchaseDate.$date       671 non-null    float64\n",
      "dtypes: float64(5), int64(3), object(7)\n",
      "memory usage: 131.3+ KB\n",
      "None\n",
      "<class 'pandas.core.frame.DataFrame'>\n",
      "RangeIndex: 495 entries, 0 to 494\n",
      "Data columns (total 7 columns):\n",
      " #   Column             Non-Null Count  Dtype  \n",
      "---  ------             --------------  -----  \n",
      " 0   active             495 non-null    bool   \n",
      " 1   role               495 non-null    object \n",
      " 2   signUpSource       447 non-null    object \n",
      " 3   state              439 non-null    object \n",
      " 4   _id.$oid           495 non-null    object \n",
      " 5   createdDate.$date  495 non-null    int64  \n",
      " 6   lastLogin.$date    433 non-null    float64\n",
      "dtypes: bool(1), float64(1), int64(1), object(4)\n",
      "memory usage: 23.8+ KB\n",
      "None\n"
     ]
    }
   ],
   "source": [
    "print(brands_df.info())\n",
    "print(receipts_df.info())\n",
    "print(users_df.info())"
   ]
  },
  {
   "cell_type": "code",
   "execution_count": 5,
   "metadata": {},
   "outputs": [],
   "source": [
    "def clean_users(users_df):\n",
    "    # convert the date columns to datetime for users_df\n",
    "    users_df['created_date'] = pd.to_datetime(users_df['createdDate.$date'])\n",
    "    users_df['last_login'] = pd.to_datetime(users_df['lastLogin.$date'])\n",
    "\n",
    "    # Rename columns\n",
    "    users_df = users_df.rename(columns={\n",
    "        '_id.$oid': 'user_id',\n",
    "        'active': 'active',\n",
    "        'role': 'role',\n",
    "        'signUpSource': 'sign_up_source'\n",
    "    })\n",
    "    # Drop columns\n",
    "    users_df = users_df.drop(columns=['createdDate.$date', 'lastLogin.$date']).drop_duplicates().reset_index(drop=True)\n",
    "\n",
    "    return users_df"
   ]
  },
  {
   "cell_type": "code",
   "execution_count": 6,
   "metadata": {},
   "outputs": [
    {
     "name": "stdout",
     "output_type": "stream",
     "text": [
      "<class 'pandas.core.frame.DataFrame'>\n",
      "RangeIndex: 212 entries, 0 to 211\n",
      "Data columns (total 7 columns):\n",
      " #   Column          Non-Null Count  Dtype         \n",
      "---  ------          --------------  -----         \n",
      " 0   active          212 non-null    bool          \n",
      " 1   role            212 non-null    object        \n",
      " 2   sign_up_source  207 non-null    object        \n",
      " 3   state           206 non-null    object        \n",
      " 4   user_id         212 non-null    object        \n",
      " 5   created_date    212 non-null    datetime64[ns]\n",
      " 6   last_login      172 non-null    datetime64[ns]\n",
      "dtypes: bool(1), datetime64[ns](2), object(4)\n",
      "memory usage: 10.3+ KB\n",
      "None\n"
     ]
    }
   ],
   "source": [
    "users_df_cleaned = clean_users(users_df)\n",
    "print(users_df_cleaned.info())"
   ]
  },
  {
   "cell_type": "code",
   "execution_count": 7,
   "metadata": {},
   "outputs": [
    {
     "name": "stdout",
     "output_type": "stream",
     "text": [
      "                     cpg_id cpg_reference\n",
      "0  601ac114be37ce2ead437550          Cogs\n",
      "1  5332f5fbe4b03c9a25efd0ba          Cogs\n",
      "2  601ac142be37ce2ead437559          Cogs\n",
      "3  5332fa12e4b03c9a25efd1e7          Cogs\n",
      "4  559c2234e4b06aca36af13c6          Cogs\n",
      "<class 'pandas.core.frame.DataFrame'>\n",
      "RangeIndex: 204 entries, 0 to 203\n",
      "Data columns (total 2 columns):\n",
      " #   Column         Non-Null Count  Dtype \n",
      "---  ------         --------------  ----- \n",
      " 0   cpg_id         204 non-null    object\n",
      " 1   cpg_reference  204 non-null    object\n",
      "dtypes: object(2)\n",
      "memory usage: 3.3+ KB\n",
      "None\n"
     ]
    }
   ],
   "source": [
    "def create_cpg_df(brands_df):\n",
    "    # creata new dataframe with cpg id and cpg reference\n",
    "    cpg_df = brands_df[['cpg.$id.$oid', 'cpg.$ref']].drop_duplicates().reset_index(drop=True)\n",
    "    cpg_df = cpg_df.rename(columns={'cpg.$id.$oid': 'cpg_id', 'cpg.$ref': 'cpg_reference'})\n",
    "    return cpg_df\n",
    "\n",
    "cpg_df = create_cpg_df(brands_df)\n",
    "print(cpg_df.head())\n",
    "print(cpg_df.info())"
   ]
  },
  {
   "cell_type": "code",
   "execution_count": 8,
   "metadata": {},
   "outputs": [
    {
     "name": "stdout",
     "output_type": "stream",
     "text": [
      "         category_name     category_code                    cpg_id\n",
      "0               Baking            BAKING  601ac114be37ce2ead437550\n",
      "1            Beverages         BEVERAGES  5332f5fbe4b03c9a25efd0ba\n",
      "2               Baking            BAKING  601ac142be37ce2ead437559\n",
      "3       Candy & Sweets  CANDY_AND_SWEETS  5332fa12e4b03c9a25efd1e7\n",
      "4  Condiments & Sauces               NaN  559c2234e4b06aca36af13c6\n",
      "<class 'pandas.core.frame.DataFrame'>\n",
      "RangeIndex: 259 entries, 0 to 258\n",
      "Data columns (total 3 columns):\n",
      " #   Column         Non-Null Count  Dtype \n",
      "---  ------         --------------  ----- \n",
      " 0   category_name  232 non-null    object\n",
      " 1   category_code  167 non-null    object\n",
      " 2   cpg_id         259 non-null    object\n",
      "dtypes: object(3)\n",
      "memory usage: 6.2+ KB\n",
      "None\n"
     ]
    }
   ],
   "source": [
    "def create_category_df(brands_df):\n",
    "    # create new dataframe with category id and category\n",
    "    category_df = brands_df[['category', 'categoryCode', 'cpg.$id.$oid']].drop_duplicates().reset_index(drop=True)\n",
    "    category_df = category_df.rename(columns={'cpg.$id.$oid': 'cpg_id', 'category': 'category_name', 'categoryCode': 'category_code'})\n",
    "    \n",
    "    return category_df\n",
    "\n",
    "category_df = create_category_df(brands_df)\n",
    "print(category_df.head())\n",
    "print(category_df.info())"
   ]
  },
  {
   "cell_type": "code",
   "execution_count": 9,
   "metadata": {},
   "outputs": [
    {
     "name": "stdout",
     "output_type": "stream",
     "text": [
      "        barcode     category_code                 brand_name top_brand  \\\n",
      "0  511111019862            BAKING  test brand @1612366101024     False   \n",
      "1  511111519928         BEVERAGES                  Starbucks     False   \n",
      "2  511111819905            BAKING  test brand @1612366146176     False   \n",
      "3  511111519874            BAKING  test brand @1612366146051     False   \n",
      "4  511111319917  CANDY_AND_SWEETS  test brand @1612366146827     False   \n",
      "\n",
      "                 brand_uuid                     brand_code  \n",
      "0  601ac115be37ce2ead437551                            NaN  \n",
      "1  601c5460be37ce2ead43755f                      STARBUCKS  \n",
      "2  601ac142be37ce2ead43755d  TEST BRANDCODE @1612366146176  \n",
      "3  601ac142be37ce2ead43755a  TEST BRANDCODE @1612366146051  \n",
      "4  601ac142be37ce2ead43755e  TEST BRANDCODE @1612366146827  \n",
      "<class 'pandas.core.frame.DataFrame'>\n",
      "RangeIndex: 1167 entries, 0 to 1166\n",
      "Data columns (total 6 columns):\n",
      " #   Column         Non-Null Count  Dtype \n",
      "---  ------         --------------  ----- \n",
      " 0   barcode        1167 non-null   object\n",
      " 1   category_code  517 non-null    object\n",
      " 2   brand_name     1167 non-null   object\n",
      " 3   top_brand      555 non-null    object\n",
      " 4   brand_uuid     1167 non-null   object\n",
      " 5   brand_code     933 non-null    object\n",
      "dtypes: object(6)\n",
      "memory usage: 54.8+ KB\n",
      "None\n"
     ]
    }
   ],
   "source": [
    "def clean_brands(brands_df):\n",
    "    # Rename columns\n",
    "    brands_df = brands_df.rename(columns={\n",
    "        '_id.$oid': 'brand_uuid',\n",
    "        'barcode': 'barcode',\n",
    "        'brandCode': 'brand_code',\n",
    "        'name': 'brand_name',\n",
    "        'categoryCode': 'category_code',\n",
    "        'topBrand': 'top_brand',\n",
    "    })\n",
    "    # Drop columns\n",
    "    brands_df = brands_df.drop(columns=['cpg.$id.$oid', 'cpg.$ref', 'category']).drop_duplicates().reset_index(drop=True)\n",
    "\n",
    "    return brands_df\n",
    "\n",
    "brands_df_cleaned = clean_brands(brands_df)\n",
    "print(brands_df_cleaned.head())\n",
    "print(brands_df_cleaned.info())"
   ]
  },
  {
   "cell_type": "code",
   "execution_count": 10,
   "metadata": {},
   "outputs": [
    {
     "name": "stdout",
     "output_type": "stream",
     "text": [
      "<class 'pandas.core.frame.DataFrame'>\n",
      "RangeIndex: 429545 entries, 0 to 429544\n",
      "Data columns (total 12 columns):\n",
      " #   Column                          Non-Null Count   Dtype \n",
      "---  ------                          --------------   ----- \n",
      " 0   product_id                      82694 non-null   object\n",
      " 1   brand_uuid                      428844 non-null  object\n",
      " 2   description                     414101 non-null  object\n",
      " 3   metabrite_campaign_id           525 non-null     object\n",
      " 4   original_metabrite_barcode      11232 non-null   object\n",
      " 5   original_metabrite_description  468 non-null     object\n",
      " 6   original_metabrite_item_price   468 non-null     object\n",
      " 7   rewards_group                   43868 non-null   object\n",
      " 8   rewards_product_partner_id      59397 non-null   object\n",
      " 9   product_price                   429077 non-null  object\n",
      " 10  competitive_product             14399 non-null   object\n",
      " 11  competitor_rewards_group        92 non-null      object\n",
      "dtypes: object(12)\n",
      "memory usage: 39.3+ MB\n",
      "None\n"
     ]
    }
   ],
   "source": [
    "def create_products_table(receipts_df, brands_df):\n",
    "    # create new dataframe with barcode of receipts as product id, description,\n",
    "    # metabrite_campaign_id, partner_item_id, rewards_group, rewards_product_partner_id,\n",
    "    # item_price, competitive_product, competitor_rewards_group and brand_id\n",
    "    products_df = receipts_df[['rewardsReceiptItemList']].explode('rewardsReceiptItemList')\n",
    "    products_df = products_df.dropna(subset=['rewardsReceiptItemList']).reset_index(drop=True)\n",
    "    products_df = products_df.rename(columns={'rewardsReceiptItemList': 'product'})\n",
    "    products_df = pd.json_normalize(products_df['product'])\n",
    "    products_df = products_df.rename(columns={\n",
    "        'barcode': 'product_id',\n",
    "        'description': 'description',\n",
    "        'itemPrice': 'product_price',\n",
    "        'metabriteCampaignId': 'metabrite_campaign_id',\n",
    "        'rewardsGroup': 'rewards_group',\n",
    "        'rewardsProductPartnerId': 'rewards_product_partner_id',\n",
    "        'brandCode': 'brand_code',\n",
    "        'originalMetaBriteItemPrice': 'original_metabrite_item_price',\n",
    "        'originalMetaBriteBarcode': 'original_metabrite_barcode',\n",
    "        'originalMetaBriteDescription': 'original_metabrite_description',\n",
    "        'competitorRewardsGroup': 'competitor_rewards_group',\n",
    "        'competitiveProduct': 'competitive_product',\n",
    "    })\n",
    "    # merge with brands_df to get brand_id and drop brand_code\n",
    "    products_df = products_df.merge(brands_df, on='brand_code', how='left')\n",
    "    # select columns\n",
    "    products_df = products_df[['product_id',\n",
    "                               'brand_uuid',\n",
    "                                'description',\n",
    "                                'metabrite_campaign_id',\n",
    "                                'original_metabrite_barcode',\n",
    "                                'original_metabrite_description',\n",
    "                                'original_metabrite_item_price',\n",
    "                                'rewards_group',\n",
    "                                'rewards_product_partner_id',\n",
    "                                'product_price',\n",
    "                                'competitive_product',\n",
    "                                'competitor_rewards_group'\n",
    "                                ]].drop_duplicates().reset_index(drop=True)\n",
    "    return products_df\n",
    "\n",
    "products_df = create_products_table(receipts_df, brands_df_cleaned)\n",
    "print(products_df.info())"
   ]
  },
  {
   "cell_type": "code",
   "execution_count": 14,
   "metadata": {},
   "outputs": [
    {
     "name": "stdout",
     "output_type": "stream",
     "text": [
      "<class 'pandas.core.frame.DataFrame'>\n",
      "RangeIndex: 1119 entries, 0 to 1118\n",
      "Data columns (total 14 columns):\n",
      " #   Column                  Non-Null Count  Dtype         \n",
      "---  ------                  --------------  -----         \n",
      " 0   bonus_points_earned     544 non-null    float64       \n",
      " 1   bonus_points_reason     544 non-null    object        \n",
      " 2   points_earned           609 non-null    object        \n",
      " 3   purchased_item_count    635 non-null    float64       \n",
      " 4   rewards_receipt_status  1119 non-null   object        \n",
      " 5   total_spent             684 non-null    object        \n",
      " 6   userId                  1119 non-null   object        \n",
      " 7   receipt_uuid            1119 non-null   object        \n",
      " 8   create_date             1119 non-null   datetime64[ns]\n",
      " 9   date_scanned            1119 non-null   datetime64[ns]\n",
      " 10  finished_date           568 non-null    datetime64[ns]\n",
      " 11  modify_date             1119 non-null   datetime64[ns]\n",
      " 12  points_awarded_date     537 non-null    datetime64[ns]\n",
      " 13  purchase_date           671 non-null    datetime64[ns]\n",
      "dtypes: datetime64[ns](6), float64(2), object(6)\n",
      "memory usage: 122.5+ KB\n",
      "None\n",
      "   bonus_points_earned                                bonus_points_reason  \\\n",
      "0                500.0  Receipt number 2 completed, bonus point schedu...   \n",
      "1                150.0  Receipt number 5 completed, bonus point schedu...   \n",
      "2                  5.0                         All-receipts receipt bonus   \n",
      "3                  5.0                         All-receipts receipt bonus   \n",
      "4                  5.0                         All-receipts receipt bonus   \n",
      "\n",
      "  points_earned  purchased_item_count rewards_receipt_status total_spent  \\\n",
      "0         500.0                   5.0               FINISHED       26.00   \n",
      "1         150.0                   2.0               FINISHED       11.00   \n",
      "2             5                   1.0               REJECTED       10.00   \n",
      "3           5.0                   4.0               FINISHED       28.00   \n",
      "4           5.0                   2.0               FINISHED        1.00   \n",
      "\n",
      "                     userId              receipt_uuid  \\\n",
      "0  5ff1e1eacfcf6c399c274ae6  5ff1e1eb0a720f0523000575   \n",
      "1  5ff1e194b6a9d73a3a9f1052  5ff1e1bb0a720f052300056b   \n",
      "2  5ff1e1f1cfcf6c399c274b0b  5ff1e1f10a720f052300057a   \n",
      "3  5ff1e1eacfcf6c399c274ae6  5ff1e1ee0a7214ada100056f   \n",
      "4  5ff1e194b6a9d73a3a9f1052  5ff1e1d20a7214ada1000561   \n",
      "\n",
      "                 create_date               date_scanned  \\\n",
      "0 1970-01-01 00:26:49.687531 1970-01-01 00:26:49.687531   \n",
      "1 1970-01-01 00:26:49.687483 1970-01-01 00:26:49.687483   \n",
      "2 1970-01-01 00:26:49.687537 1970-01-01 00:26:49.687537   \n",
      "3 1970-01-01 00:26:49.687534 1970-01-01 00:26:49.687534   \n",
      "4 1970-01-01 00:26:49.687506 1970-01-01 00:26:49.687506   \n",
      "\n",
      "               finished_date                modify_date  \\\n",
      "0 1970-01-01 00:26:49.687531 1970-01-01 00:26:49.687536   \n",
      "1 1970-01-01 00:26:49.687483 1970-01-01 00:26:49.687488   \n",
      "2                        NaT 1970-01-01 00:26:49.687542   \n",
      "3 1970-01-01 00:26:49.687534 1970-01-01 00:26:49.687539   \n",
      "4 1970-01-01 00:26:49.687511 1970-01-01 00:26:49.687511   \n",
      "\n",
      "         points_awarded_date              purchase_date  \n",
      "0 1970-01-01 00:26:49.687531 1970-01-01 00:26:49.632000  \n",
      "1 1970-01-01 00:26:49.687483 1970-01-01 00:26:49.601083  \n",
      "2                        NaT 1970-01-01 00:26:49.632000  \n",
      "3 1970-01-01 00:26:49.687534 1970-01-01 00:26:49.632000  \n",
      "4 1970-01-01 00:26:49.687506 1970-01-01 00:26:49.601106  \n"
     ]
    }
   ],
   "source": [
    "def create_receipts_table(receipts_df):\n",
    "    receipts_df = receipts_df.rename(columns={\n",
    "        '_id.$oid': 'receipt_uuid',\n",
    "        'bonusPointsEarned': 'bonus_points_earned',\n",
    "        'bonusPointsEarnedReason': 'bonus_points_reason',\n",
    "        'createDate.$date': 'create_date',\n",
    "        'dateScanned.$date': 'date_scanned',\n",
    "        'finishedDate.$date': 'finished_date',\n",
    "        'modifyDate.$date': 'modify_date',\n",
    "        'pointsAwardedDate.$date': 'points_awarded_date',\n",
    "        'pointsEarned': 'points_earned',\n",
    "        'purchaseDate.$date': 'purchase_date',\n",
    "        'purchasedItemCount': 'purchased_item_count',\n",
    "        'rewardsReceiptStatus': 'rewards_receipt_status',\n",
    "        'rewardsReceiptStatusReason': 'rewards_receipt_status_reason',\n",
    "        'totalSpent': 'total_spent',\n",
    "        'userId.$oid': 'user_id'\n",
    "    })\n",
    "    receipts_df['create_date'] = pd.to_datetime(receipts_df['create_date'])\n",
    "    receipts_df['date_scanned'] = pd.to_datetime(receipts_df['date_scanned'])\n",
    "    receipts_df['finished_date'] = pd.to_datetime(receipts_df['finished_date'])\n",
    "    receipts_df['modify_date'] = pd.to_datetime(receipts_df['modify_date'])\n",
    "    receipts_df['points_awarded_date'] = pd.to_datetime(receipts_df['points_awarded_date'])\n",
    "    receipts_df['purchase_date'] = pd.to_datetime(receipts_df['purchase_date'])\n",
    "    receipts_df = receipts_df.drop(columns=['rewardsReceiptItemList']).drop_duplicates().reset_index(drop=True)\n",
    "    return receipts_df\n",
    "\n",
    "receipts_df_cleaned = create_receipts_table(receipts_df)\n",
    "print(receipts_df_cleaned.info())\n",
    "print(receipts_df_cleaned.head())"
   ]
  },
  {
   "cell_type": "code",
   "execution_count": 55,
   "metadata": {},
   "outputs": [
    {
     "name": "stdout",
     "output_type": "stream",
     "text": [
      "{'_id': {'$oid': '5ff1e1eb0a720f0523000575'}, 'bonusPointsEarned': 500, 'bonusPointsEarnedReason': 'Receipt number 2 completed, bonus point schedule DEFAULT (5cefdcacf3693e0b50e83a36)', 'createDate': {'$date': 1609687531000}, 'dateScanned': {'$date': 1609687531000}, 'finishedDate': {'$date': 1609687531000}, 'modifyDate': {'$date': 1609687536000}, 'pointsAwardedDate': {'$date': 1609687531000}, 'pointsEarned': '500.0', 'purchaseDate': {'$date': 1609632000000}, 'purchasedItemCount': 5, 'rewardsReceiptItemList': [{'barcode': '4011', 'description': 'ITEM NOT FOUND', 'finalPrice': '26.00', 'itemPrice': '26.00', 'needsFetchReview': False, 'partnerItemId': '1', 'preventTargetGapPoints': True, 'quantityPurchased': 5, 'userFlaggedBarcode': '4011', 'userFlaggedNewItem': True, 'userFlaggedPrice': '26.00', 'userFlaggedQuantity': 5}], 'rewardsReceiptStatus': 'FINISHED', 'totalSpent': '26.00', 'userId': '5ff1e1eacfcf6c399c274ae6'}\n"
     ]
    }
   ],
   "source": [
    "import ast\n",
    "def create_receipt_items_table(receipts_df):\n",
    "    with open('receipts.json', 'r') as f:\n",
    "        raw_data = f.read().strip()\n",
    "    # Convert to JSON Lines (each line is a valid JSON object)\n",
    "    json_objects = [json.loads(line) for line in raw_data.strip().split(\"\\n\") if \"rewardsReceiptItemList\" in line] \n",
    "    print(json_objects[0])\n",
    "\n",
    "    # Normalize the nested `rewardsReceiptItemList`\n",
    "    receipt_items_df = pd.json_normalize(\n",
    "        json_objects,\n",
    "        record_path=[\"rewardsReceiptItemList\"],  # Flatten this field\n",
    "        meta=[\"_id\"],  # Keep these at the top level\n",
    "    )\n",
    "    # replace null barcode with itemNumber and drop itemNumber\n",
    "    receipt_items_df['barcode'] = receipt_items_df['barcode'].fillna(receipt_items_df['itemNumber'])\n",
    "    receipt_items_df[\"receipt_id\"] = receipt_items_df[\"_id\"].apply(lambda x: x[\"$oid\"])\n",
    "    # rename all camelCase columns to snake_case\n",
    "    receipt_items_df = receipt_items_df.rename(columns={\n",
    "        'barcode': 'product_id',\n",
    "        'finalPrice': 'final_price',\n",
    "        'needsFetchReview': 'needs_fetch_review',\n",
    "        'partnerItemId': 'partner_item_id',\n",
    "        'preventTargetGapPoints': 'prevent_target_gap_points',\n",
    "        'quantityPurchased': 'quantity_purchased',\n",
    "        'userFlaggedBarcode': 'user_flagged_barcode',\n",
    "        'userFlaggedNewItem': 'user_flagged_new_item',\n",
    "        'userFlaggedPrice': 'user_flagged_price',\n",
    "        'userFlaggedQuantity': 'user_flagged_quantity',\n",
    "        'needsFetchReviewReason': 'needs_fetch_review_reason',\n",
    "        'pointsNotAwardedReason': 'points_not_awarded_reason',\n",
    "        'userFlaggedDescription': 'user_flagged_description',\n",
    "        'pointsPayerId': 'points_payer_id',\n",
    "        'rewardsGroup': 'rewards_group',\n",
    "        'rewardsProductPartnerId': 'rewards_product_partner_id',\n",
    "        'discountedItemPrice': 'discounted_item_price',\n",
    "        'originalReceiptItemText': 'original_receipt_item_text',\n",
    "        'originalMetaBriteQuantityPurchased': 'original_metabrite_quantity_purchased',\n",
    "        'pointsEarned': 'points_earned',\n",
    "        'targetPrice': 'target_price',\n",
    "        'originalFinalPrice': 'original_final_price',\n",
    "        'priceAfterCoupon': 'price_after_coupon'\n",
    "    })\n",
    "    # select columns all those renamed earlier\n",
    "    receipt_items_df = receipt_items_df[[\n",
    "        'receipt_id',\n",
    "        'product_id',\n",
    "        'final_price',\n",
    "        'needs_fetch_review',\n",
    "        'partner_item_id',\n",
    "        'prevent_target_gap_points',\n",
    "        'quantity_purchased',\n",
    "        'user_flagged_barcode',\n",
    "        'user_flagged_new_item',\n",
    "        'user_flagged_price',\n",
    "        'user_flagged_quantity',\n",
    "        'needs_fetch_review_reason',\n",
    "        'points_not_awarded_reason',\n",
    "        'points_payer_id',\n",
    "        'rewards_group',\n",
    "        'user_flagged_description',\n",
    "        'rewards_product_partner_id',\n",
    "        'discounted_item_price',\n",
    "        'original_receipt_item_text',\n",
    "        'original_metabrite_quantity_purchased',\n",
    "        'points_earned',\n",
    "        'target_price',\n",
    "        'original_final_price',\n",
    "        'price_after_coupon'\n",
    "    ]].drop_duplicates().reset_index(drop=True)\n",
    "    return receipt_items_df\n",
    "\n",
    "receipt_items_df = create_receipt_items_table(receipts_df)"
   ]
  },
  {
   "cell_type": "code",
   "execution_count": 56,
   "metadata": {},
   "outputs": [
    {
     "name": "stdout",
     "output_type": "stream",
     "text": [
      "<class 'pandas.core.frame.DataFrame'>\n",
      "RangeIndex: 6941 entries, 0 to 6940\n",
      "Data columns (total 24 columns):\n",
      " #   Column                                 Non-Null Count  Dtype  \n",
      "---  ------                                 --------------  -----  \n",
      " 0   receipt_id                             6941 non-null   object \n",
      " 1   product_id                             3090 non-null   object \n",
      " 2   final_price                            6767 non-null   object \n",
      " 3   needs_fetch_review                     813 non-null    object \n",
      " 4   partner_item_id                        6941 non-null   object \n",
      " 5   prevent_target_gap_points              358 non-null    object \n",
      " 6   quantity_purchased                     6767 non-null   float64\n",
      " 7   user_flagged_barcode                   337 non-null    object \n",
      " 8   user_flagged_new_item                  323 non-null    object \n",
      " 9   user_flagged_price                     299 non-null    object \n",
      " 10  user_flagged_quantity                  299 non-null    float64\n",
      " 11  needs_fetch_review_reason              219 non-null    object \n",
      " 12  points_not_awarded_reason              340 non-null    object \n",
      " 13  points_payer_id                        1267 non-null   object \n",
      " 14  rewards_group                          1731 non-null   object \n",
      " 15  user_flagged_description               205 non-null    object \n",
      " 16  rewards_product_partner_id             2269 non-null   object \n",
      " 17  discounted_item_price                  5769 non-null   object \n",
      " 18  original_receipt_item_text             5760 non-null   object \n",
      " 19  original_metabrite_quantity_purchased  15 non-null     float64\n",
      " 20  points_earned                          927 non-null    object \n",
      " 21  target_price                           378 non-null    object \n",
      " 22  original_final_price                   9 non-null      object \n",
      " 23  price_after_coupon                     956 non-null    object \n",
      "dtypes: float64(3), object(21)\n",
      "memory usage: 1.3+ MB\n",
      "None\n"
     ]
    }
   ],
   "source": [
    "print(receipt_items_df.info())"
   ]
  },
  {
   "cell_type": "code",
   "execution_count": 23,
   "metadata": {},
   "outputs": [
    {
     "name": "stdout",
     "output_type": "stream",
     "text": [
      "   index  active      role sign_up_source state                   user_id  \\\n",
      "0      0    True  consumer          Email    WI  5ff1e194b6a9d73a3a9f1052   \n",
      "1      3    True  consumer          Email    WI  5ff1e1eacfcf6c399c274ae6   \n",
      "2      6    True  consumer          Email    WI  5ff1e1e8cfcf6c399c274ad9   \n",
      "3      7    True  consumer          Email    WI  5ff1e1b7cfcf6c399c274a5a   \n",
      "4      9    True  consumer          Email    WI  5ff1e1f1cfcf6c399c274b0b   \n",
      "\n",
      "                   created_date                    last_login  \n",
      "0 1970-01-01 00:26:49.687444800 1970-01-01 00:26:49.687537858  \n",
      "1 1970-01-01 00:26:49.687530554 1970-01-01 00:26:49.687530597  \n",
      "2 1970-01-01 00:26:49.687528354 1970-01-01 00:26:49.687528392  \n",
      "3 1970-01-01 00:26:49.687479626 1970-01-01 00:26:49.687479665  \n",
      "4 1970-01-01 00:26:49.687537564 1970-01-01 00:26:49.687537599  \n"
     ]
    }
   ],
   "source": [
    "print(users_df.head())"
   ]
  },
  {
   "cell_type": "code",
   "execution_count": null,
   "metadata": {},
   "outputs": [],
   "source": [
    "# convert the date columns to datetime for users_df\n",
    "users_df['createdDate'] = pd.to_datetime(users_df['createdDate'])\n",
    "users_df['lastLogin'] = pd.to_datetime(users_df['lastLogin'])\n",
    "\n",
    "# convert the date columns to datetime for receipts_df\n",
    "receipts_df['createDate'] = pd.to_datetime(receipts_df['createDate'])\n",
    "receipts_df['dateScanned'] = pd.to_datetime(receipts_df['dateScanned'])\n",
    "receipts_df['finishedDate'] = pd.to_datetime(receipts_df['finishedDate'])\n",
    "receipts_df['modifyDate'] = pd.to_datetime(receipts_df['modifyDate'])\n",
    "receipts_df['pointsAwardedDate'] = pd.to_datetime(receipts_df['pointsAwardedDate'])\n",
    "receipts_df['purchaseDate'] = pd.to_datetime(receipts_df['purchaseDate'])\n",
    "\n"
   ]
  },
  {
   "cell_type": "code",
   "execution_count": 61,
   "metadata": {},
   "outputs": [
    {
     "ename": "ProgrammingError",
     "evalue": "Error binding parameter 1: type 'Series' is not supported",
     "output_type": "error",
     "traceback": [
      "\u001b[1;31m---------------------------------------------------------------------------\u001b[0m",
      "\u001b[1;31mProgrammingError\u001b[0m                          Traceback (most recent call last)",
      "Cell \u001b[1;32mIn[61], line 22\u001b[0m\n\u001b[0;32m      9\u001b[0m cursor\u001b[38;5;241m.\u001b[39mexecute(\u001b[38;5;124m\"\"\"\u001b[39m\n\u001b[0;32m     10\u001b[0m \u001b[38;5;124m    CREATE TABLE users (\u001b[39m\n\u001b[0;32m     11\u001b[0m \u001b[38;5;124m        user_id TEXT PRIMARY KEY,\u001b[39m\n\u001b[1;32m   (...)\u001b[0m\n\u001b[0;32m     18\u001b[0m \u001b[38;5;124m    );\u001b[39m\n\u001b[0;32m     19\u001b[0m \u001b[38;5;124m\"\"\"\u001b[39m)\n\u001b[0;32m     21\u001b[0m \u001b[38;5;66;03m# insert data into the users table from a DataFrame\u001b[39;00m\n\u001b[1;32m---> 22\u001b[0m \u001b[43mcursor\u001b[49m\u001b[38;5;241;43m.\u001b[39;49m\u001b[43mexecute\u001b[49m\u001b[43m(\u001b[49m\u001b[38;5;124;43m\"\"\"\u001b[39;49m\u001b[38;5;124;43mINSERT INTO users (user_id, active, role, sign_up_source, created_date, last_login, state) VALUES (?, ?, ?, ?, ?, ?, ?)\u001b[39;49m\u001b[38;5;124;43m\"\"\"\u001b[39;49m\u001b[43m,\u001b[49m\n\u001b[0;32m     23\u001b[0m \u001b[43m               \u001b[49m\u001b[43m(\u001b[49m\u001b[43musers_df_cleaned\u001b[49m\u001b[43m[\u001b[49m\u001b[38;5;124;43m'\u001b[39;49m\u001b[38;5;124;43muser_id\u001b[39;49m\u001b[38;5;124;43m'\u001b[39;49m\u001b[43m]\u001b[49m\u001b[43m,\u001b[49m\u001b[43m \u001b[49m\u001b[43musers_df_cleaned\u001b[49m\u001b[43m[\u001b[49m\u001b[38;5;124;43m'\u001b[39;49m\u001b[38;5;124;43mactive\u001b[39;49m\u001b[38;5;124;43m'\u001b[39;49m\u001b[43m]\u001b[49m\u001b[43m,\u001b[49m\u001b[43m \u001b[49m\u001b[43musers_df_cleaned\u001b[49m\u001b[43m[\u001b[49m\u001b[38;5;124;43m'\u001b[39;49m\u001b[38;5;124;43mrole\u001b[39;49m\u001b[38;5;124;43m'\u001b[39;49m\u001b[43m]\u001b[49m\u001b[43m,\u001b[49m\u001b[43m \u001b[49m\u001b[43musers_df_cleaned\u001b[49m\u001b[43m[\u001b[49m\u001b[38;5;124;43m'\u001b[39;49m\u001b[38;5;124;43msign_up_source\u001b[39;49m\u001b[38;5;124;43m'\u001b[39;49m\u001b[43m]\u001b[49m\u001b[43m,\u001b[49m\u001b[43m \u001b[49m\u001b[43musers_df_cleaned\u001b[49m\u001b[43m[\u001b[49m\u001b[38;5;124;43m'\u001b[39;49m\u001b[38;5;124;43mcreated_date\u001b[39;49m\u001b[38;5;124;43m'\u001b[39;49m\u001b[43m]\u001b[49m\u001b[43m,\u001b[49m\u001b[43m \u001b[49m\u001b[43musers_df_cleaned\u001b[49m\u001b[43m[\u001b[49m\u001b[38;5;124;43m'\u001b[39;49m\u001b[38;5;124;43mlast_login\u001b[39;49m\u001b[38;5;124;43m'\u001b[39;49m\u001b[43m]\u001b[49m\u001b[43m,\u001b[49m\u001b[43m \u001b[49m\u001b[43musers_df_cleaned\u001b[49m\u001b[43m[\u001b[49m\u001b[38;5;124;43m'\u001b[39;49m\u001b[38;5;124;43mstate\u001b[39;49m\u001b[38;5;124;43m'\u001b[39;49m\u001b[43m]\u001b[49m\u001b[43m)\u001b[49m\u001b[43m)\u001b[49m\n\u001b[0;32m     24\u001b[0m conn\u001b[38;5;241m.\u001b[39mcommit()\n\u001b[0;32m     25\u001b[0m cursor\u001b[38;5;241m.\u001b[39mexecute(\u001b[38;5;124m\"\u001b[39m\u001b[38;5;124mSELECT * FROM users limit 10\u001b[39m\u001b[38;5;124m\"\u001b[39m)\n",
      "\u001b[1;31mProgrammingError\u001b[0m: Error binding parameter 1: type 'Series' is not supported"
     ]
    }
   ],
   "source": [
    "import sqlite3\n",
    "\n",
    "# Create a new SQLite database called fetch_rewards.db\n",
    "conn = sqlite3.connect('fetch_rewards.db')\n",
    "\n",
    "# Create a cursor object\n",
    "cursor = conn.cursor()\n",
    "cursor.execute(\"DROP TABLE IF EXISTS users\")\n",
    "cursor.execute(\"\"\"\n",
    "    CREATE TABLE users (\n",
    "        user_id TEXT PRIMARY KEY,\n",
    "        active INTEGER,\n",
    "        role TEXT,\n",
    "        sign_up_source TEXT,\n",
    "        created_date TIMESTAMP,\n",
    "        last_login TIMESTAMP,\n",
    "        state TEXT\n",
    "    );\n",
    "\"\"\")\n",
    "\n",
    "# insert data into the users table from a DataFrame\n",
    "cursor.execute(\"\"\"INSERT INTO users (user_id, active, role, sign_up_source, created_date, last_login, state) VALUES (?, ?, ?, ?, ?, ?, ?)\"\"\",\n",
    "               (users_df_cleaned['user_id'], users_df_cleaned['active'], users_df_cleaned['role'], users_df_cleaned['sign_up_source'], users_df_cleaned['created_date'], users_df_cleaned['last_login'], users_df_cleaned['state']))\n",
    "conn.commit()\n",
    "cursor.execute(\"SELECT * FROM users limit 10\")\n",
    "print(cursor.fetchall())\n",
    "conn.close()\n",
    "\n"
   ]
  },
  {
   "cell_type": "code",
   "execution_count": 62,
   "metadata": {},
   "outputs": [
    {
     "data": {
      "text/plain": [
       "212"
      ]
     },
     "execution_count": 62,
     "metadata": {},
     "output_type": "execute_result"
    }
   ],
   "source": [
    "users_df_cleaned.to_sql(\"users\", conn, if_exists=\"append\", index=False, method=\"multi\")"
   ]
  },
  {
   "cell_type": "code",
   "execution_count": 64,
   "metadata": {},
   "outputs": [
    {
     "name": "stdout",
     "output_type": "stream",
     "text": [
      "[('5ff1e194b6a9d73a3a9f1052', 1, 'consumer', 'Email', '1970-01-01 00:26:49.687444', '1970-01-01 00:26:49.687537', 'WI'), ('5ff1e1eacfcf6c399c274ae6', 1, 'consumer', 'Email', '1970-01-01 00:26:49.687530', '1970-01-01 00:26:49.687530', 'WI'), ('5ff1e1e8cfcf6c399c274ad9', 1, 'consumer', 'Email', '1970-01-01 00:26:49.687528', '1970-01-01 00:26:49.687528', 'WI'), ('5ff1e1b7cfcf6c399c274a5a', 1, 'consumer', 'Email', '1970-01-01 00:26:49.687479', '1970-01-01 00:26:49.687479', 'WI'), ('5ff1e1f1cfcf6c399c274b0b', 1, 'consumer', 'Email', '1970-01-01 00:26:49.687537', '1970-01-01 00:26:49.687537', 'WI'), ('5ff1e1e4cfcf6c399c274ac3', 1, 'consumer', 'Email', '1970-01-01 00:26:49.687524', '1970-01-01 00:26:49.687524', 'WI'), ('5ff1e1b4cfcf6c399c274a54', 1, 'consumer', 'Email', '1970-01-01 00:26:49.687476', '1970-01-01 00:26:49.687476', 'WI'), ('5ff370c562fde912123a5e0e', 1, 'consumer', 'Email', '1970-01-01 00:26:49.789637', '1970-01-01 00:26:49.789850', 'WI'), ('5ff36d0362fde912123a5535', 1, 'consumer', 'Email', '1970-01-01 00:26:49.788675', '1970-01-01 00:26:49.788882', 'WI'), ('5ff36d83135e7011bcb864d6', 1, 'consumer', 'Email', '1970-01-01 00:26:49.788803', '1970-01-01 00:26:49.788803', 'WI')]\n"
     ]
    }
   ],
   "source": [
    "\n",
    "cursor.execute(\"SELECT * FROM users limit 10\")\n",
    "print(cursor.fetchall())"
   ]
  },
  {
   "cell_type": "code",
   "execution_count": 66,
   "metadata": {},
   "outputs": [
    {
     "data": {
      "text/plain": [
       "212"
      ]
     },
     "execution_count": 66,
     "metadata": {},
     "output_type": "execute_result"
    }
   ],
   "source": [
    "from sqlalchemy import create_engine\n",
    "# Create a connection to the database\n",
    "engine = create_engine(\"sqlite:///fetch_rewards.db\")\n",
    "# Write the DataFrame to the SQLite database\n",
    "users_df_cleaned.to_sql(\"users\", engine, if_exists=\"replace\", index=False)"
   ]
  },
  {
   "cell_type": "code",
   "execution_count": 68,
   "metadata": {},
   "outputs": [
    {
     "name": "stdout",
     "output_type": "stream",
     "text": [
      "[(1, 'consumer', 'Email', 'WI', '5ff1e194b6a9d73a3a9f1052', '1970-01-01 00:26:49.687444', '1970-01-01 00:26:49.687537'), (1, 'consumer', 'Email', 'WI', '5ff1e1eacfcf6c399c274ae6', '1970-01-01 00:26:49.687530', '1970-01-01 00:26:49.687530'), (1, 'consumer', 'Email', 'WI', '5ff1e1e8cfcf6c399c274ad9', '1970-01-01 00:26:49.687528', '1970-01-01 00:26:49.687528'), (1, 'consumer', 'Email', 'WI', '5ff1e1b7cfcf6c399c274a5a', '1970-01-01 00:26:49.687479', '1970-01-01 00:26:49.687479'), (1, 'consumer', 'Email', 'WI', '5ff1e1f1cfcf6c399c274b0b', '1970-01-01 00:26:49.687537', '1970-01-01 00:26:49.687537'), (1, 'consumer', 'Email', 'WI', '5ff1e1e4cfcf6c399c274ac3', '1970-01-01 00:26:49.687524', '1970-01-01 00:26:49.687524'), (1, 'consumer', 'Email', 'WI', '5ff1e1b4cfcf6c399c274a54', '1970-01-01 00:26:49.687476', '1970-01-01 00:26:49.687476'), (1, 'consumer', 'Email', 'WI', '5ff370c562fde912123a5e0e', '1970-01-01 00:26:49.789637', '1970-01-01 00:26:49.789850'), (1, 'consumer', 'Email', 'WI', '5ff36d0362fde912123a5535', '1970-01-01 00:26:49.788675', '1970-01-01 00:26:49.788882'), (1, 'consumer', 'Email', 'WI', '5ff36d83135e7011bcb864d6', '1970-01-01 00:26:49.788803', '1970-01-01 00:26:49.788803'), (1, 'consumer', 'Email', 'WI', '5ff36c8862fde912123a538a', '1970-01-01 00:26:49.788552', '1970-01-01 00:26:49.788553'), (1, 'consumer', 'Email', 'WI', '5ff36be7135e7011bcb856d3', '1970-01-01 00:26:49.788391', '1970-01-01 00:26:49.788592'), (1, 'consumer', 'Email', 'WI', '5ff36a3862fde912123a4460', '1970-01-01 00:26:49.787960', '1970-01-01 00:26:49.788185'), (1, 'consumer', 'Email', 'WI', '5ff36c8e135e7011bcb85da4', '1970-01-01 00:26:49.788558', '1970-01-01 00:26:49.788559'), (1, 'consumer', 'Email', 'WI', '5ff3711e62fde912123a620e', '1970-01-01 00:26:49.789726', '1970-01-01 00:26:49.789726'), (1, 'consumer', 'Email', 'WI', '5ff4ce33c3d63511e2a484b6', '1970-01-01 00:26:49.879091', '1970-01-01 00:26:49.879195'), (1, 'consumer', 'Email', 'WI', '5ff473e7c1e2d0121a9b2697', '1970-01-01 00:26:49.855975', '1970-01-01 00:26:49.855975'), (1, 'consumer', 'Email', 'WI', '5ff47392c3d63511e2a47881', '1970-01-01 00:26:49.855890', '1970-01-01 00:26:49.856133'), (1, 'consumer', 'Email', 'WI', '5ff4ce91c1e2d0121a9b3057', '1970-01-01 00:26:49.879185', '1970-01-01 00:26:49.879185'), (1, 'consumer', 'Email', 'WI', '5ff4ce3dc3d63511e2a484dc', '1970-01-01 00:26:49.879101', '1970-01-01 00:26:49.879101'), (1, 'consumer', 'Email', 'WI', '5ff4ce34c3d63511e2a484ba', '1970-01-01 00:26:49.879092', '1970-01-01 00:26:49.879092'), (1, 'consumer', 'Email', 'WI', '5ff4ce3ac1e2d0121a9b2fb3', '1970-01-01 00:26:49.879098', '1970-01-01 00:26:49.879098'), (1, 'consumer', 'Email', 'WI', '5ff5d15aeb7c7d12096d91a2', '1970-01-01 00:26:49.945434', '1970-01-01 00:26:49.945690'), (1, 'consumer', 'Email', 'WI', '5ff5d1a38f142f11dd1886ba', '1970-01-01 00:26:49.945507', '1970-01-01 00:26:49.945507'), (1, 'consumer', 'Email', 'WI', '5ff5d1d08f142f11dd18884c', '1970-01-01 00:26:49.945552', '1970-01-01 00:26:49.945552'), (1, 'consumer', 'Email', 'WI', '5ff7264e8f142f11dd189504', '1970-01-01 00:26:50.032718', '1970-01-01 00:26:50.032826'), (1, 'consumer', 'Email', 'WI', '5ff7401ceb7c7d31ca8a46e0', '1970-01-01 00:26:50.039324', '1970-01-01 00:26:50.039324'), (1, 'consumer', 'Email', 'WI', '5ff73bea8f142f3276c3e84a', '1970-01-01 00:26:50.038250', '1970-01-01 00:26:50.038250'), (1, 'consumer', 'Email', 'WI', '5ff74f3db3348b11c93361d1', '1970-01-01 00:26:50.043197', '1970-01-01 00:26:50.043423'), (1, 'consumer', 'Email', 'WI', '5ff73b90eb7c7d31ca8a452b', '1970-01-01 00:26:50.038160', '1970-01-01 00:26:50.038267'), (1, 'consumer', 'Email', 'WI', '5ff7930fb3348b11c93372a6', '1970-01-01 00:26:50.060559', '1970-01-01 00:26:50.060994'), (1, 'consumer', 'Email', 'WI', '5ff7268eeb7c7d12096da2a9', '1970-01-01 00:26:50.032782', '1970-01-01 00:26:50.032782'), (1, 'consumer', 'Email', 'WI', '5ff726a0eb7c7d12096da2db', '1970-01-01 00:26:50.032800', '1970-01-01 00:26:50.032800'), (1, 'consumer', 'Email', 'WI', '5ff793dd04929111f6e90c69', '1970-01-01 00:26:50.060765', '1970-01-01 00:26:50.060765'), (1, 'consumer', 'Email', 'WI', '5ff7949eb3348b11c93373d2', '1970-01-01 00:26:50.060958', '1970-01-01 00:26:50.060958'), (1, 'consumer', 'Email', 'WI', '5ff7268c8f142f11dd189579', '1970-01-01 00:26:50.032780', '1970-01-01 00:26:50.032780'), (1, 'consumer', 'Email', 'KY', '5ff616a68f142f11dd189163', '1970-01-01 00:26:49.963174', None), (1, 'consumer', 'Email', 'WI', '5ff79464b3348b11c933738b', '1970-01-01 00:26:50.060900', '1970-01-01 00:26:50.060900'), (1, 'consumer', 'Email', 'WI', '5ff8c241b3348b11c93379fc', '1970-01-01 00:26:50.138177', '1970-01-01 00:26:50.138177'), (1, 'consumer', 'Email', 'WI', '5ff8ce8504929111f6e913cb', '1970-01-01 00:26:50.141317', '1970-01-01 00:26:50.141399'), (1, 'consumer', 'Email', 'WI', '5ff873d1b3348b11c9337716', '1970-01-01 00:26:50.118097', '1970-01-01 00:26:50.118201'), (1, 'consumer', 'Email', 'WI', '5ff873ef04929111f6e910f0', '1970-01-01 00:26:50.118127', '1970-01-01 00:26:50.118127'), (1, 'consumer', 'Email', 'WI', '5ff8c4e8b3348b11c9337a11', '1970-01-01 00:26:50.138856', '1970-01-01 00:26:50.138857'), (1, 'consumer', 'Email', 'WI', '5ff8da28b3348b11c9337ac6', '1970-01-01 00:26:50.144296', '1970-01-01 00:26:50.144389'), (1, 'consumer', 'Email', 'WI', '5ff8da7db3348b11c9337b6a', '1970-01-01 00:26:50.144381', '1970-01-01 00:26:50.144381'), (1, 'consumer', 'Email', 'WI', '5ff873ddb3348b11c9337733', '1970-01-01 00:26:50.118109', '1970-01-01 00:26:50.118109'), (1, 'consumer', 'Email', 'WI', '5ff8a11db3348b11c93378aa', '1970-01-01 00:26:50.129693', '1970-01-01 00:26:50.129693'), (1, 'consumer', 'Email', 'WI', '5ff8d634b3348b11c9337aa4', '1970-01-01 00:26:50.143284', '1970-01-01 00:26:50.143284'), (1, 'consumer', 'Email', 'WI', '5ff8c330b3348b11c9337a04', '1970-01-01 00:26:50.138416', '1970-01-01 00:26:50.138416'), (1, 'consumer', 'Email', 'WI', '5ff8da7eb3348b11c9337b72', '1970-01-01 00:26:50.144382', '1970-01-01 00:26:50.144382'), (1, 'consumer', 'Email', 'WI', '5ffcb47d04929111f6e9256c', '1970-01-01 00:26:50.396797', '1970-01-01 00:26:50.396901'), (1, 'consumer', 'Email', 'WI', '5ffc8ff9b3348b11c9338896', '1970-01-01 00:26:50.387449', '1970-01-01 00:26:50.387449'), (1, 'consumer', 'Email', 'WI', '5ffc8f9704929111f6e922bf', '1970-01-01 00:26:50.387351', '1970-01-01 00:26:50.387456'), (1, 'consumer', 'Email', 'WI', '5ffc9001b3348b11c93388b6', '1970-01-01 00:26:50.387457', '1970-01-01 00:26:50.387457'), (1, 'consumer', 'Email', 'WI', '5ffcb4bc04929111f6e92608', '1970-01-01 00:26:50.396860', '1970-01-01 00:26:50.396860'), (1, 'consumer', 'Email', 'WI', '5ffc9d87b3348b11c9338920', '1970-01-01 00:26:50.390919', '1970-01-01 00:26:50.391013'), (1, 'consumer', 'Email', 'WI', '5ffc9d9f04929111f6e92456', '1970-01-01 00:26:50.390943', '1970-01-01 00:26:50.390943'), (1, 'consumer', 'Email', 'WI', '5ffca30604929111f6e92525', '1970-01-01 00:26:50.392326', '1970-01-01 00:26:50.392326'), (1, 'consumer', 'Email', 'WI', '5fff0f9804929101d0ab0697', '1970-01-01 00:26:50.551192', '1970-01-01 00:26:50.551192'), (1, 'consumer', 'Email', 'WI', '5fff0f4fb3348b03eb45abb0', '1970-01-01 00:26:50.551119', '1970-01-01 00:26:50.551322'), (1, 'consumer', 'Email', 'WI', '5fff4beedf9ace121f0c17ea', '1970-01-01 00:26:50.566638', '1970-01-01 00:26:50.566872'), (1, 'consumer', 'Email', 'AL', '5ffe115404929101d0aaebb2', '1970-01-01 00:26:50.486100', None), (1, 'consumer', 'Email', 'WI', '5fff55dabd4dff11dda8f5f1', '1970-01-01 00:26:50.569178', '1970-01-01 00:26:50.569406'), (1, 'consumer', 'Email', 'WI', '5fff26bab3348b03eb45bb22', '1970-01-01 00:26:50.557114', '1970-01-01 00:26:50.557114'), (1, 'consumer', 'Email', 'WI', '5fff4c7461ffa811fdb0854c', '1970-01-01 00:26:50.566772', '1970-01-01 00:26:50.566773'), (1, 'consumer', 'Email', 'WI', '5fff26bfb3348b03eb45bb32', '1970-01-01 00:26:50.557119', '1970-01-01 00:26:50.557119'), (1, 'consumer', 'Email', 'WI', '5fff26f2b3348b03eb45bbb9', '1970-01-01 00:26:50.557170', '1970-01-01 00:26:50.557170'), (1, 'consumer', 'Email', 'WI', '6000d4bae2571211db395b9f', '1970-01-01 00:26:50.667194', '1970-01-01 00:26:50.667194'), (1, 'consumer', 'Email', 'WI', '600056a3f7e5b011fce897b0', '1970-01-01 00:26:50.634915', '1970-01-01 00:26:50.635030'), (1, 'consumer', 'Email', 'WI', '6000d46cfb296c121a81b20c', '1970-01-01 00:26:50.667116', '1970-01-01 00:26:50.667232'), (1, 'consumer', 'Email', 'WI', '6000b7aefb296c121a8198b1', '1970-01-01 00:26:50.659758', '1970-01-01 00:26:50.660002'), (1, 'consumer', 'Email', 'WI', '60005709bd4dff11dda90ac1', '1970-01-01 00:26:50.635017', '1970-01-01 00:26:50.635018'), (1, 'consumer', 'Google', 'WI', '5e27526d0bdb6a138c32b556', '1970-01-01 00:26:19.635309', None), (1, 'consumer', 'Email', 'WI', '6000d4abe2571211db395b5c', '1970-01-01 00:26:50.667179', '1970-01-01 00:26:50.667179'), (1, 'consumer', 'Email', 'WI', '600056d6bd4dff11dda90a3f', '1970-01-01 00:26:50.634966', '1970-01-01 00:26:50.634966'), (1, 'consumer', 'Email', 'WI', '60005704bd4dff11dda90a9d', '1970-01-01 00:26:50.635012', '1970-01-01 00:26:50.635012'), (1, 'consumer', 'Email', 'WI', '6002475cfb296c121a81b98d', '1970-01-01 00:26:50.762076', None), (1, 'consumer', 'Email', 'WI', '60024f24e257124ec6b99a13', '1970-01-01 00:26:50.764069', None), (1, 'consumer', 'Email', 'WI', '60037329e257124ec6b99eeb', '1970-01-01 00:26:50.838825', None), (1, 'consumer', 'Email', 'AL', '6000b75bbe5fc96dfee1d4d3', '1970-01-01 00:26:50.659675', None), (1, 'consumer', 'Email', 'WI', '6002541ae257124ec6b99a3a', '1970-01-01 00:26:50.765338', None), (1, 'consumer', 'Email', 'WI', '600258dafb296c4ef805d9b7', '1970-01-01 00:26:50.766554', None), (1, 'consumer', 'Email', 'WI', '60025c65fb296c4ef805d9e6', '1970-01-01 00:26:50.767461', None), (1, 'consumer', 'Email', 'WI', '60037005e257124ec6b99ec2', '1970-01-01 00:26:50.838021', None), (1, 'consumer', 'Email', 'CO', '60023de5fb296c121a81b955', '1970-01-01 00:26:50.759653', None), (1, 'consumer', 'Email', 'WI', '60049cdce257124ec6b9a353', '1970-01-01 00:26:50.915036', None), (1, 'consumer', 'Email', 'WI', '60025fe0e257124ec6b99a87', '1970-01-01 00:26:50.768353', None), (1, 'consumer', 'Email', 'WI', '600498c4e257124ec6b9a331', '1970-01-01 00:26:50.913989', None), (1, 'consumer', 'Email', 'WI', '6004a5d3fb296c4ef805e256', '1970-01-01 00:26:50.917331', None), (1, 'consumer', 'Email', 'WI', '60037a94fb296c4ef805ddbe', '1970-01-01 00:26:50.840725', None), (1, 'consumer', 'Email', 'WI', '600495c3fb296c4ef805e1fc', '1970-01-01 00:26:50.913219', None), (1, 'consumer', 'Email', 'WI', '6004a965e257124ec6b9a39f', '1970-01-01 00:26:50.918245', None), (1, 'consumer', 'Email', 'WI', '6007464b6e64691717e8c1f0', '1970-01-01 00:26:51.089483', '1970-01-01 00:26:51.089708'), (1, 'consumer', 'Email', 'WI', '600741d06e6469120a787853', '1970-01-01 00:26:51.088337', '1970-01-01 00:26:51.088743'), (1, 'consumer', 'Email', 'WI', '600748196e64691717e8d4f0', '1970-01-01 00:26:51.089945', '1970-01-01 00:26:51.090162'), (1, 'consumer', 'Email', 'WI', '600746fd6e64691717e8cfb5', '1970-01-01 00:26:51.089661', '1970-01-01 00:26:51.089661'), (1, 'consumer', 'Email', 'WI', '60074b49325c8a1794623876', '1970-01-01 00:26:51.090761', '1970-01-01 00:26:51.090969'), (1, 'consumer', 'Email', 'WI', '60074b996e64691717e8f11a', '1970-01-01 00:26:51.090841', '1970-01-01 00:26:51.090842'), (1, 'consumer', 'Email', 'WI', '60074246325c8a12289e22a0', '1970-01-01 00:26:51.088455', '1970-01-01 00:26:51.088455'), (1, 'consumer', 'Email', 'WI', '60074883325c8a1794622a12', '1970-01-01 00:26:51.090051', '1970-01-01 00:26:51.090051'), (1, 'consumer', 'Email', 'AL', '6006f786fb296c7f688530f8', '1970-01-01 00:26:51.069318', None), (1, 'consumer', 'Email', 'WI', '60088d55633aab121bb8e41a', '1970-01-01 00:26:51.173205', '1970-01-01 00:26:51.173274'), (1, 'consumer', 'Email', 'WI', '6008893b633aab121bb8e0a9', '1970-01-01 00:26:51.172155', '1970-01-01 00:26:51.172233'), (1, 'consumer', 'Email', 'WI', '60083a1e325c8a17946255de', '1970-01-01 00:26:51.151902', '1970-01-01 00:26:51.152104'), (1, 'consumer', 'Email', 'WI', '6008896c633aab121bb8e11d', '1970-01-01 00:26:51.172204', None), (1, 'consumer', 'Email', 'WI', '60086a09b6310511daa4e1e9', '1970-01-01 00:26:51.164169', '1970-01-01 00:26:51.164170'), (1, 'consumer', 'Email', 'WI', '60088e5d633aab121bb8e5cf', '1970-01-01 00:26:51.173469', '1970-01-01 00:26:51.173470'), (1, 'consumer', 'Email', 'WI', '60085b3dbe5fc90ee6a67b11', '1970-01-01 00:26:51.160381', '1970-01-01 00:26:51.160614'), (1, 'consumer', 'Email', 'WI', '60088e44b6310511daa4ef80', '1970-01-01 00:26:51.173444', '1970-01-01 00:26:51.173515'), (1, 'consumer', 'Email', 'WI', '60088d84633aab121bb8e4a6', '1970-01-01 00:26:51.173252', '1970-01-01 00:26:51.173252'), (1, 'consumer', 'Email', 'WI', '6008873eb6310511daa4e8eb', '1970-01-01 00:26:51.171646', '1970-01-01 00:26:51.171778'), (1, 'consumer', 'Email', 'WI', '60086978633aab121bb8c895', '1970-01-01 00:26:51.164024', '1970-01-01 00:26:51.164251'), (1, 'consumer', 'Email', 'WI', '60088a25b6310511daa4ec42', '1970-01-01 00:26:51.172389', '1970-01-01 00:26:51.172462'), (0, 'consumer', 'Email', 'WI', '6008622ebe5fc9247bab4eb9', '1970-01-01 00:26:51.162158', '1970-01-01 00:26:51.162158'), (1, 'consumer', 'Email', 'WI', '6008897ab6310511daa4ebdc', '1970-01-01 00:26:51.172218', '1970-01-01 00:26:51.172218'), (1, 'consumer', 'Email', 'WI', '60088a46b6310511daa4ec97', '1970-01-01 00:26:51.172422', '1970-01-01 00:26:51.172422'), (1, 'consumer', 'Email', 'WI', '600987d77d983a11f63cfa92', '1970-01-01 00:26:51.237335', '1970-01-01 00:26:51.237561'), (1, 'consumer', 'Email', 'IL', '6008f02fb6310511daa4f314', '1970-01-01 00:26:51.198511', None), (1, 'consumer', 'Email', 'WI', '600988557d983a11f63d08ef', '1970-01-01 00:26:51.237461', '1970-01-01 00:26:51.237461'), (1, 'consumer', 'Email', 'WI', '6009885c50b33111fd61eee9', '1970-01-01 00:26:51.237468', '1970-01-01 00:26:51.237468'), (1, 'consumer', 'Email', 'WI', '6009e60450b3311194385009', '1970-01-01 00:26:51.261445', None), (1, 'consumer', 'Email', 'WI', '6008d447b6310511daa4f281', '1970-01-01 00:26:51.191367', None), (1, 'consumer', 'Email', 'WI', '60099c1450b33111fd61f702', '1970-01-01 00:26:51.242516', None), (1, 'consumer', 'Email', 'IL', '6008e9cdb6310511daa4f2e4', '1970-01-01 00:26:51.196877', None), (1, 'consumer', 'Email', 'WI', '600a03e17d983a124e9adb0f', '1970-01-01 00:26:51.269089', None), (1, 'consumer', 'Email', 'WI', '600992d17d983a11f63d11ad', '1970-01-01 00:26:51.240145', None), (1, 'consumer', 'Email', 'WI', '600b477e7d983a124e9ae061', '1970-01-01 00:26:51.351934', None), (1, 'consumer', 'Email', 'WI', '600f008f4329897eac237bd8', '1970-01-01 00:26:51.595919', '1970-01-01 00:26:51.596151'), (1, 'consumer', 'Email', 'WI', '600ed4815edb7811cde6b50b', '1970-01-01 00:26:51.584641', '1970-01-01 00:26:51.584642'), (1, 'consumer', 'Email', 'WI', '600f41b2bd196811e68ea219', '1970-01-01 00:26:51.612595', '1970-01-01 00:26:51.612989'), (1, 'consumer', 'Email', 'WI', '600f20c15edb787dce060911', '1970-01-01 00:26:51.604161', None), (1, 'consumer', 'Email', 'WI', '600f47f06fd0dc1768a34a12', '1970-01-01 00:26:51.614192', '1970-01-01 00:26:51.614413'), (1, 'consumer', 'Email', 'WI', '600ed42e43298911ce45d1fa', '1970-01-01 00:26:51.584559', '1970-01-01 00:26:51.584964'), (1, 'consumer', 'Email', 'WI', '600eea525edb7811cde6c81c', '1970-01-01 00:26:51.590227', None), (1, 'consumer', 'Email', 'WI', '600ed48a5edb7811cde6b549', '1970-01-01 00:26:51.584650', '1970-01-01 00:26:51.584651'), (1, 'consumer', 'Email', 'WI', '600fb1ac73c60b12049027bb', '1970-01-01 00:26:51.641260', '1970-01-01 00:26:51.641483'), (1, 'consumer', 'Email', 'WI', '600fb1ec73c60b1204902af4', '1970-01-01 00:26:51.641324', '1970-01-01 00:26:51.641324'), (1, 'consumer', 'Email', 'WI', '600fb1e4a4b74c120bd18777', '1970-01-01 00:26:51.641316', '1970-01-01 00:26:51.641317'), (1, 'consumer', 'Email', 'WI', '6011f33173c60b1804ce1102', '1970-01-01 00:26:51.789105', '1970-01-01 00:26:51.789106'), (1, 'consumer', 'Email', 'WI', '6011f43ba4b74c18d3a8ca01', '1970-01-01 00:26:51.789371', '1970-01-01 00:26:51.789372'), (1, 'consumer', 'Email', 'WI', '6011f31ea4b74c18d3a8c476', '1970-01-01 00:26:51.789086', '1970-01-01 00:26:51.789371'), (1, 'consumer', 'Email', 'WI', '6011f42773c60b1804ce1607', '1970-01-01 00:26:51.789351', '1970-01-01 00:26:51.789352'), (1, 'consumer', 'Email', 'WI', '60118bcfa4b74c18d3a8c0d7', '1970-01-01 00:26:51.762639', '1970-01-01 00:26:51.762761'), (1, 'consumer', 'Email', 'WI', '6010be65a4b74c120bd19edc', '1970-01-01 00:26:51.710053', '1970-01-01 00:26:51.710053'), (1, 'consumer', 'Email', 'WI', '6010bddaa4b74c120bd19dfb', '1970-01-01 00:26:51.709914', '1970-01-01 00:26:51.710065'), (1, 'consumer', 'Email', 'WI', '60118c0fa4b74c18d3a8c151', '1970-01-01 00:26:51.762703', '1970-01-01 00:26:51.762703'), (1, 'consumer', 'Email', 'WI', '6010be6673c60b12049040ef', '1970-01-01 00:26:51.710054', '1970-01-01 00:26:51.710055'), (1, 'consumer', 'Email', 'WI', '6010be6173c60b12049040d7', '1970-01-01 00:26:51.710049', '1970-01-01 00:26:51.710049'), (1, 'consumer', 'Email', 'WI', '60132acb73c60b3ca7f3ba32', '1970-01-01 00:26:51.868875', '1970-01-01 00:26:51.869101'), (1, 'consumer', 'Email', 'WI', '600f00d05edb787dce05fb84', '1970-01-01 00:26:51.595984', None), (1, 'consumer', 'Email', 'WI', '60132b85a4b74c3cbc516295', '1970-01-01 00:26:51.869061', '1970-01-01 00:26:51.869061'), (1, 'consumer', 'Email', 'WI', '60132b8b73c60b3ca7f3baee', '1970-01-01 00:26:51.869067', '1970-01-01 00:26:51.869067'), (1, 'consumer', 'Email', 'WI', '600f19914329897eac238fef', '1970-01-01 00:26:51.602321', None), (1, 'consumer', 'Email', 'WI', '6014558767804a1228b20d00', '1970-01-01 00:26:51.945351', '1970-01-01 00:26:51.945351'), (1, 'consumer', 'Email', 'WI', '601465c567804a1228b20f89', '1970-01-01 00:26:51.949509', '1970-01-01 00:26:51.949509'), (1, 'consumer', 'Email', 'WI', '60145a3c84231211ce796c5d', '1970-01-01 00:26:51.946556', '1970-01-01 00:26:51.946716'), (1, 'consumer', 'Email', 'WI', '6014499c67804a1228b1f5b0', '1970-01-01 00:26:51.942300', '1970-01-01 00:26:51.943201'), (1, 'consumer', 'Email', 'WI', '600f35015edb782098e2ac1b', '1970-01-01 00:26:51.609346', None), (1, 'consumer', 'Email', 'WI', '60147001c8b50e11d8453c36', '1970-01-01 00:26:51.952129', '1970-01-01 00:26:51.952129'), (1, 'consumer', 'Email', 'WI', '60145a5584231211ce796cac', '1970-01-01 00:26:51.946581', '1970-01-01 00:26:51.946581'), (1, 'consumer', 'Email', 'WI', '6014319173c60b3ca7f3bf01', '1970-01-01 00:26:51.936145', '1970-01-01 00:26:51.936328'), (1, 'consumer', 'Email', 'WI', '6014558467804a1228b20cf0', '1970-01-01 00:26:51.945348', '1970-01-01 00:26:51.945348'), (1, 'consumer', 'Email', 'WI', '6014485b84231211ce793d79', '1970-01-01 00:26:51.941979', '1970-01-01 00:26:51.942191'), (1, 'consumer', 'Email', 'WI', '601431c173c60b3ca7f3bf63', '1970-01-01 00:26:51.936193', '1970-01-01 00:26:51.936193'), (1, 'consumer', 'Email', 'WI', '601465a884231211ce796db3', '1970-01-01 00:26:51.949480', '1970-01-01 00:26:51.949480'), (1, 'consumer', 'Email', None, '60145ff384231211ce796d51', '1970-01-01 00:26:51.948019', None), (1, 'consumer', 'Email', 'WI', '60146f2ac8b50e11d8452661', '1970-01-01 00:26:51.951914', '1970-01-01 00:26:51.952148'), (1, 'consumer', 'Email', 'WI', '6014658e67804a1228b20ef4', '1970-01-01 00:26:51.949454', '1970-01-01 00:26:51.949567'), (1, 'consumer', 'Email', 'WI', '601442ce67804a1228b1dc41', '1970-01-01 00:26:51.940558', '1970-01-01 00:26:51.940734'), (1, 'consumer', 'Email', 'WI', '601465a584231211ce796da5', '1970-01-01 00:26:51.949477', '1970-01-01 00:26:51.949477'), (1, 'consumer', 'Email', 'OH', '60147d2ac8b50e11d8453f53', '1970-01-01 00:26:51.955498', None), (1, 'consumer', 'Email', 'WI', '601890a99a1b091205b61ced', '1970-01-01 00:26:52.222633', '1970-01-01 00:26:52.222633'), (1, 'consumer', 'Email', 'WI', '60183090c8b50e11d84549c0', '1970-01-01 00:26:52.198032', '1970-01-01 00:26:52.198112'), (1, 'consumer', 'Email', 'WI', '60182f4ac8b50e11d8454946', '1970-01-01 00:26:52.197706', '1970-01-01 00:26:52.197706'), (1, 'consumer', 'Email', 'WI', '60182d6dc8b50e11d84547b2', '1970-01-01 00:26:52.197229', '1970-01-01 00:26:52.197361'), (1, 'consumer', 'Email', 'WI', '60183c579a1b091205b61a5f', '1970-01-01 00:26:52.201047', '1970-01-01 00:26:52.201167'), (1, 'consumer', 'Email', 'WI', '60189c94c8b50e11d8454f6b', '1970-01-01 00:26:52.225684', '1970-01-01 00:26:52.225684'), (1, 'consumer', 'Email', 'WI', '60189c74c8b50e11d8454eff', '1970-01-01 00:26:52.225652', '1970-01-01 00:26:52.225749'), (1, 'consumer', 'Email', 'WI', '60189c88c8b50e11d8454f2f', '1970-01-01 00:26:52.225672', '1970-01-01 00:26:52.225672'), (1, 'consumer', 'Email', 'WI', '60189c859a1b091205b61de1', '1970-01-01 00:26:52.225669', '1970-01-01 00:26:52.225669'), (1, 'consumer', 'Email', None, '60186237c8b50e11d8454d5f', '1970-01-01 00:26:52.210743', None), (1, 'consumer', 'Email', 'WI', '601ac1da591789121574dc07', '1970-01-01 00:26:52.366298', '1970-01-01 00:26:52.366298'), (1, 'consumer', 'Email', 'SC', '60183e6c9a1b091205b61b49', '1970-01-01 00:26:52.201580', None), (1, 'consumer', 'Email', 'WI', '601ac195af4b1a1205f7560f', '1970-01-01 00:26:52.366229', '1970-01-01 00:26:52.366451'), (1, 'consumer', 'Email', 'WI', '601c6887969c0b11f7d0c81f', '1970-01-01 00:26:52.474503', '1970-01-01 00:26:52.474590'), (1, 'consumer', 'Email', 'WI', '601c68d229c30a1227ada484', '1970-01-01 00:26:52.474578', '1970-01-01 00:26:52.474578'), (1, 'consumer', 'Email', 'WI', '601c2c05969c0b11f7d0b097', '1970-01-01 00:26:52.459013', '1970-01-01 00:26:52.459230'), (1, 'consumer', 'Email', 'WI', '601c2c6a29c30a1227ad93bd', '1970-01-01 00:26:52.459114', '1970-01-01 00:26:52.459114'), (1, 'consumer', None, 'WI', '55308179e4b0eabd8f99caa2', '1970-01-01 00:23:49.242233', '1970-01-01 00:25:25.713820'), (1, 'consumer', 'Email', 'WI', '60217fa799409b11fcf899fe', '1970-01-01 00:26:52.808103', None), (1, 'consumer', 'Email', 'WI', '602176c9b57b8a12187fe77e', '1970-01-01 00:26:52.805833', '1970-01-01 00:26:52.805833'), (1, 'consumer', 'Email', 'WI', '602176a3b57b8a12187fe717', '1970-01-01 00:26:52.805795', '1970-01-01 00:26:52.805795'), (1, 'consumer', 'Email', 'WI', '6022998599409b11fcf89c53', '1970-01-01 00:26:52.880261', '1970-01-01 00:26:52.880338'), (1, 'consumer', 'Email', 'WI', '60229990b57b8a12187fe9e0', '1970-01-01 00:26:52.880272', '1970-01-01 00:26:52.880272'), (1, 'fetch-staff', None, 'WI', '59c124bae4b0299e55b0f330', '1970-01-01 00:25:05.830074', '1970-01-01 00:26:52.802578'), (1, 'consumer', 'Email', 'WI', '6024399defa60112282c0ac9', '1970-01-01 00:26:52.986781', '1970-01-01 00:26:52.986782'), (1, 'fetch-staff', 'Email', 'WI', '5f2068904928021530f8fc34', '1970-01-01 00:26:35.959440', '1970-01-01 00:26:52.452605'), (1, 'consumer', 'Email', 'WI', '602558b1efa60114d20e5dc7', '1970-01-01 00:26:53.060273', '1970-01-01 00:26:53.060273'), (1, 'consumer', 'Email', 'WI', '602538adb54593795bf692ac', '1970-01-01 00:26:53.052077', '1970-01-01 00:26:53.052077'), (1, 'consumer', 'Email', 'WI', '60255883efa60114d20e5d4e', '1970-01-01 00:26:53.060227', '1970-01-01 00:26:53.060309'), (1, 'consumer', 'Email', 'WI', '602558adb5459313e1e9b7ce', '1970-01-01 00:26:53.060269', '1970-01-01 00:26:53.060269'), (1, 'consumer', 'Email', 'WI', '6025388fb54593795bf69234', '1970-01-01 00:26:53.052047', '1970-01-01 00:26:53.052047'), (1, 'consumer', 'Google', 'AL', '5fb0a078be5fc9775c1f3945', '1970-01-01 00:26:45.410936', None), (1, 'consumer', 'Email', 'WI', '60268c7aefa6011bb1510786', '1970-01-01 00:26:53.139066', '1970-01-01 00:26:53.139066'), (1, 'consumer', None, None, '5a43c08fe4b014fd6b6a0612', '1970-01-01 00:25:14.389647', '1970-01-01 00:26:53.146957'), (1, 'consumer', 'Email', 'WI', '60268c69efa6011bb151075f', '1970-01-01 00:26:53.139049', '1970-01-01 00:26:53.139127'), (1, 'fetch-staff', 'Email', None, '5fbc35711d967d1222cbfefc', '1970-01-01 00:26:46.169969', '1970-01-01 00:26:54.313551'), (1, 'fetch-staff', 'Email', 'NH', '5fc961c3b8cfca11a077dd33', '1970-01-01 00:26:47.033283', '1970-01-01 00:26:54.379156'), (1, 'fetch-staff', 'Email', None, '5fa41775898c7a11a6bcef3e', '1970-01-01 00:26:44.589429', '1970-01-01 00:26:54.873722'), (1, 'fetch-staff', 'Google', 'AL', '5fa32b4d898c7a11a6bcebce', '1970-01-01 00:26:44.528973', '1970-01-01 00:26:54.842518'), (1, 'fetch-staff', None, 'IL', '5964eb07e4b03efd0c0f267b', '1970-01-01 00:24:59.785991', '1970-01-01 00:26:54.884869'), (1, 'fetch-staff', None, None, '54943462e4b07e684157a532', '1970-01-01 00:23:38.998882', '1970-01-01 00:26:54.963143')]\n"
     ]
    }
   ],
   "source": [
    "from sqlalchemy import text\n",
    "\n",
    "with engine.connect() as connection:\n",
    "        result = connection.execute(text(\"SELECT * FROM users\"))\n",
    "        print(result.fetchall())"
   ]
  }
 ],
 "metadata": {
  "kernelspec": {
   "display_name": "Python 3",
   "language": "python",
   "name": "python3"
  },
  "language_info": {
   "codemirror_mode": {
    "name": "ipython",
    "version": 3
   },
   "file_extension": ".py",
   "mimetype": "text/x-python",
   "name": "python",
   "nbconvert_exporter": "python",
   "pygments_lexer": "ipython3",
   "version": "3.12.8"
  }
 },
 "nbformat": 4,
 "nbformat_minor": 2
}
